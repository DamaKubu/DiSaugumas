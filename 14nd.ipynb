{
 "cells": [
  {
   "cell_type": "code",
   "execution_count": 45,
   "id": "4e6be287",
   "metadata": {
    "ExecuteTime": {
     "end_time": "2023-12-11T12:20:56.427092Z",
     "start_time": "2023-12-11T12:20:56.421237Z"
    }
   },
   "outputs": [
    {
     "data": {
      "text/plain": [
       "sin(v)*sinh(u/a)"
      ]
     },
     "execution_count": 45,
     "metadata": {},
     "output_type": "execute_result"
    }
   ],
   "source": [
    "a,b,c,u,v,g = var('a b c u v g')\n",
    "\n",
    "diff(a*cosh(u/a)*sin(v), u)"
   ]
  },
  {
   "cell_type": "code",
   "execution_count": 6,
   "id": "6e88ff67",
   "metadata": {
    "ExecuteTime": {
     "end_time": "2023-12-11T11:53:29.364429Z",
     "start_time": "2023-12-11T11:53:29.358320Z"
    }
   },
   "outputs": [
    {
     "data": {
      "text/plain": [
       "cos(v)*sinh(u/a)"
      ]
     },
     "execution_count": 6,
     "metadata": {},
     "output_type": "execute_result"
    }
   ],
   "source": [
    "\n",
    "diff(a*cosh(u/a)*cos(v), u)"
   ]
  },
  {
   "cell_type": "code",
   "execution_count": 11,
   "id": "1df5f6bb",
   "metadata": {
    "ExecuteTime": {
     "end_time": "2023-12-11T11:55:34.093331Z",
     "start_time": "2023-12-11T11:55:34.058325Z"
    }
   },
   "outputs": [],
   "source": [
    "r_u  = vector([sin(v)*sinh(u/a), cos(v)*sinh(u/a), 1])\n",
    "r_v = vector([-a*cosh(u/a)*sin(v), a*cos(v)*cosh(u/a), 0])"
   ]
  },
  {
   "cell_type": "code",
   "execution_count": 15,
   "id": "6af2f6b4",
   "metadata": {
    "ExecuteTime": {
     "end_time": "2023-12-11T11:56:41.986858Z",
     "start_time": "2023-12-11T11:56:41.982746Z"
    }
   },
   "outputs": [],
   "source": [
    "E = r_u*r_u\n",
    "F = r_u*r_v\n",
    "G = r_v*r_v"
   ]
  },
  {
   "cell_type": "code",
   "execution_count": 21,
   "id": "a34989af",
   "metadata": {
    "ExecuteTime": {
     "end_time": "2023-12-11T11:58:09.594588Z",
     "start_time": "2023-12-11T11:58:09.584921Z"
    }
   },
   "outputs": [
    {
     "data": {
      "text/html": [
       "<html><script type=\"math/tex; mode=display\">\\newcommand{\\Bold}[1]{\\mathbf{#1}}\\cos\\left(v\\right)^{2} \\sinh\\left(\\frac{u}{a}\\right)^{2} + \\sin\\left(v\\right)^{2} \\sinh\\left(\\frac{u}{a}\\right)^{2} + 1</script></html>"
      ],
      "text/latex": [
       "$$\\newcommand{\\Bold}[1]{\\mathbf{#1}}\\cos\\left(v\\right)^{2} \\sinh\\left(\\frac{u}{a}\\right)^{2} + \\sin\\left(v\\right)^{2} \\sinh\\left(\\frac{u}{a}\\right)^{2} + 1$$"
      ],
      "text/plain": [
       "cos(v)^2*sinh(u/a)^2 + sin(v)^2*sinh(u/a)^2 + 1"
      ]
     },
     "metadata": {},
     "output_type": "display_data"
    },
    {
     "data": {
      "text/plain": [
       "\\cos\\left(v\\right)^{2} \\sinh\\left(\\frac{u}{a}\\right)^{2} + \\sin\\left(v\\right)^{2} \\sinh\\left(\\frac{u}{a}\\right)^{2} + 1"
      ]
     },
     "execution_count": 21,
     "metadata": {},
     "output_type": "execute_result"
    }
   ],
   "source": [
    "show(E)\n",
    "latex(E)"
   ]
  },
  {
   "cell_type": "code",
   "execution_count": 22,
   "id": "9490862b",
   "metadata": {
    "ExecuteTime": {
     "end_time": "2023-12-11T11:59:47.808706Z",
     "start_time": "2023-12-11T11:59:47.802529Z"
    }
   },
   "outputs": [
    {
     "data": {
      "text/plain": [
       "a \\cos\\left(v\\right)^{2} \\cosh\\left(\\frac{u}{a}\\right) \\sinh\\left(\\frac{u}{a}\\right) - a \\cosh\\left(\\frac{u}{a}\\right) \\sin\\left(v\\right)^{2} \\sinh\\left(\\frac{u}{a}\\right)"
      ]
     },
     "execution_count": 22,
     "metadata": {},
     "output_type": "execute_result"
    }
   ],
   "source": [
    "latex(F)"
   ]
  },
  {
   "cell_type": "code",
   "execution_count": 23,
   "id": "c115bf3f",
   "metadata": {
    "ExecuteTime": {
     "end_time": "2023-12-11T12:00:06.133132Z",
     "start_time": "2023-12-11T12:00:06.127649Z"
    }
   },
   "outputs": [
    {
     "data": {
      "text/plain": [
       "a^{2} \\cos\\left(v\\right)^{2} \\cosh\\left(\\frac{u}{a}\\right)^{2} + a^{2} \\cosh\\left(\\frac{u}{a}\\right)^{2} \\sin\\left(v\\right)^{2}"
      ]
     },
     "execution_count": 23,
     "metadata": {},
     "output_type": "execute_result"
    }
   ],
   "source": [
    "latex(G)"
   ]
  },
  {
   "cell_type": "markdown",
   "id": "3f0afdcb",
   "metadata": {},
   "source": [
    "\\[$$\n",
    "ds^2 = Edu^2 + 2Fdudv + Gdv^2\n",
    "$$\\]\n",
    "čia\n",
    "\n",
    "\n",
    "\\[$$\n",
    "E = r_u . r_u = \\cos\\left(v\\right)^{2} \\sinh\\left(\\frac{u}{a}\\right)^{2} + \\sin\\left(v\\right)^{2} \\sinh\\left(\\frac{u}{a}\\right)^{2} + 1\n",
    "$$\\]\n",
    "\n",
    "\n",
    "\\[$$\n",
    "F = a \\cos\\left(v\\right)^{2} \\cosh\\left(\\frac{u}{a}\\right) \\sinh\\left(\\frac{u}{a}\\right) - a \\cosh\\left(\\frac{u}{a}\\right) \\sin\\left(v\\right)^{2} \\sinh\\left(\\frac{u}{a}\\right)\n",
    "$$\\]\n",
    "\n",
    "\\[$$\n",
    "a^{2} \\cos\\left(v\\right)^{2} \\cosh\\left(\\frac{u}{a}\\right)^{2} + a^{2} \\cosh\\left(\\frac{u}{a}\\right)^{2} \\sin\\left(v\\right)^{2}\n",
    "$$\\]\n"
   ]
  },
  {
   "cell_type": "markdown",
   "id": "d176d7a5",
   "metadata": {},
   "source": [
    "b"
   ]
  },
  {
   "cell_type": "code",
   "execution_count": 24,
   "id": "17693fa2",
   "metadata": {
    "ExecuteTime": {
     "end_time": "2023-12-11T12:03:09.155267Z",
     "start_time": "2023-12-11T12:03:09.151397Z"
    }
   },
   "outputs": [],
   "source": [
    "r = vector([v*cos(u), v*sin(u), a*u])"
   ]
  },
  {
   "cell_type": "code",
   "execution_count": 27,
   "id": "49ff7424",
   "metadata": {
    "ExecuteTime": {
     "end_time": "2023-12-11T12:04:05.747069Z",
     "start_time": "2023-12-11T12:04:05.740389Z"
    }
   },
   "outputs": [],
   "source": [
    "E = diff(r, u)*diff(r, u)\n",
    "F =  diff(r, u)*diff(r, v)\n",
    "G =  diff(r, v)*diff(r, v)"
   ]
  },
  {
   "cell_type": "code",
   "execution_count": 28,
   "id": "51654f95",
   "metadata": {
    "ExecuteTime": {
     "end_time": "2023-12-11T12:04:18.305447Z",
     "start_time": "2023-12-11T12:04:18.298722Z"
    }
   },
   "outputs": [
    {
     "data": {
      "text/plain": [
       "(v^2*cos(u)^2 + v^2*sin(u)^2 + a^2, 0, cos(u)^2 + sin(u)^2)"
      ]
     },
     "execution_count": 28,
     "metadata": {},
     "output_type": "execute_result"
    }
   ],
   "source": [
    "E, F, G"
   ]
  },
  {
   "attachments": {
    "image.png": {
     "image/png": "[encoded data removed]"
    }
   },
   "cell_type": "markdown",
   "id": "04b28b7b",
   "metadata": {},
   "source": [
    "![image.png](attachment:image.png)"
   ]
  },
  {
   "cell_type": "code",
   "execution_count": 35,
   "id": "18f8b656",
   "metadata": {
    "ExecuteTime": {
     "end_time": "2023-12-11T12:09:50.238335Z",
     "start_time": "2023-12-11T12:09:50.223065Z"
    }
   },
   "outputs": [
    {
     "name": "stdout",
     "output_type": "stream",
     "text": [
      "\\[E =  {\\left(\\frac{a v}{u + v} - \\frac{{\\left(u v + 1\\right)} a}{{\\left(u + v\\right)}^{2}}\\right)}^{2} + {\\left(\\frac{c v}{u + v} - \\frac{{\\left(u v - 1\\right)} c}{{\\left(u + v\\right)}^{2}}\\right)}^{2} + {\\left(\\frac{b}{u + v} - \\frac{b {\\left(u - v\\right)}}{{\\left(u + v\\right)}^{2}}\\right)}^{2}  \\]\n",
      "\\[F =  {\\left(\\frac{a u}{u + v} - \\frac{{\\left(u v + 1\\right)} a}{{\\left(u + v\\right)}^{2}}\\right)} {\\left(\\frac{a v}{u + v} - \\frac{{\\left(u v + 1\\right)} a}{{\\left(u + v\\right)}^{2}}\\right)} + {\\left(\\frac{c u}{u + v} - \\frac{{\\left(u v - 1\\right)} c}{{\\left(u + v\\right)}^{2}}\\right)} {\\left(\\frac{c v}{u + v} - \\frac{{\\left(u v - 1\\right)} c}{{\\left(u + v\\right)}^{2}}\\right)} - {\\left(\\frac{b}{u + v} + \\frac{b {\\left(u - v\\right)}}{{\\left(u + v\\right)}^{2}}\\right)} {\\left(\\frac{b}{u + v} - \\frac{b {\\left(u - v\\right)}}{{\\left(u + v\\right)}^{2}}\\right)}  \\]\n",
      "\\[G =  {\\left(\\frac{a u}{u + v} - \\frac{{\\left(u v + 1\\right)} a}{{\\left(u + v\\right)}^{2}}\\right)}^{2} + {\\left(\\frac{c u}{u + v} - \\frac{{\\left(u v - 1\\right)} c}{{\\left(u + v\\right)}^{2}}\\right)}^{2} + {\\left(\\frac{b}{u + v} + \\frac{b {\\left(u - v\\right)}}{{\\left(u + v\\right)}^{2}}\\right)}^{2}  \\]\n"
     ]
    },
    {
     "name": "stderr",
     "output_type": "stream",
     "text": [
      "<>:7: DeprecationWarning: invalid escape sequence '\\['\n",
      "<>:7: DeprecationWarning: invalid escape sequence '\\]'\n",
      "<>:8: DeprecationWarning: invalid escape sequence '\\['\n",
      "<>:8: DeprecationWarning: invalid escape sequence '\\]'\n",
      "<>:9: DeprecationWarning: invalid escape sequence '\\['\n",
      "<>:9: DeprecationWarning: invalid escape sequence '\\]'\n",
      "<>:7: DeprecationWarning: invalid escape sequence '\\['\n",
      "<>:7: DeprecationWarning: invalid escape sequence '\\]'\n",
      "<>:8: DeprecationWarning: invalid escape sequence '\\['\n",
      "<>:8: DeprecationWarning: invalid escape sequence '\\]'\n",
      "<>:9: DeprecationWarning: invalid escape sequence '\\['\n",
      "<>:9: DeprecationWarning: invalid escape sequence '\\]'\n",
      "/tmp/ipykernel_26230/1450974622.py:7: DeprecationWarning: invalid escape sequence '\\['\n",
      "  print(\"\\[E = \", latex(E), ' \\]')\n",
      "/tmp/ipykernel_26230/1450974622.py:7: DeprecationWarning: invalid escape sequence '\\]'\n",
      "  print(\"\\[E = \", latex(E), ' \\]')\n",
      "/tmp/ipykernel_26230/1450974622.py:8: DeprecationWarning: invalid escape sequence '\\['\n",
      "  print(\"\\[F = \", latex(F), ' \\]')\n",
      "/tmp/ipykernel_26230/1450974622.py:8: DeprecationWarning: invalid escape sequence '\\]'\n",
      "  print(\"\\[F = \", latex(F), ' \\]')\n",
      "/tmp/ipykernel_26230/1450974622.py:9: DeprecationWarning: invalid escape sequence '\\['\n",
      "  print(\"\\[G = \", latex(G), ' \\]')\n",
      "/tmp/ipykernel_26230/1450974622.py:9: DeprecationWarning: invalid escape sequence '\\]'\n",
      "  print(\"\\[G = \", latex(G), ' \\]')\n"
     ]
    }
   ],
   "source": [
    "r = vector([a*(u*v+1)/(u+v), b*(v-u)/(u+v), c*(u*v-1)/(u+v)])\n",
    "\n",
    "E =  diff(r, u)*diff(r, u)\n",
    "F =  diff(r, u)*diff(r, v)\n",
    "G =  diff(r, v)*diff(r, v)\n",
    "\n",
    "print(\"\\[E = \", latex(E), ' \\]')\n",
    "print(\"\\[F = \", latex(F), ' \\]')\n",
    "print(\"\\[G = \", latex(G), ' \\]')"
   ]
  },
  {
   "cell_type": "code",
   "execution_count": 36,
   "id": "030532fa",
   "metadata": {
    "ExecuteTime": {
     "end_time": "2023-12-11T12:11:50.515465Z",
     "start_time": "2023-12-11T12:11:50.509760Z"
    }
   },
   "outputs": [],
   "source": [
    "x = r[0]\n",
    "y = r[1]\n",
    "z = r[2]"
   ]
  },
  {
   "cell_type": "code",
   "execution_count": 44,
   "id": "001072ad",
   "metadata": {
    "ExecuteTime": {
     "end_time": "2023-12-11T12:15:12.438331Z",
     "start_time": "2023-12-11T12:15:12.431436Z"
    }
   },
   "outputs": [
    {
     "data": {
      "text/html": [
       "<html><script type=\"math/tex; mode=display\">\\newcommand{\\Bold}[1]{\\mathbf{#1}}\\frac{u^{2}}{u^{2} + 2 \\, u v + v^{2}} + \\frac{2 \\, u v}{u^{2} + 2 \\, u v + v^{2}} + \\frac{v^{2}}{u^{2} + 2 \\, u v + v^{2}} = 1</script></html>"
      ],
      "text/latex": [
       "$$\\newcommand{\\Bold}[1]{\\mathbf{#1}}\\frac{u^{2}}{u^{2} + 2 \\, u v + v^{2}} + \\frac{2 \\, u v}{u^{2} + 2 \\, u v + v^{2}} + \\frac{v^{2}}{u^{2} + 2 \\, u v + v^{2}} = 1$$"
      ],
      "text/plain": [
       "u^2/(u^2 + 2*u*v + v^2) + 2*u*v/(u^2 + 2*u*v + v^2) + v^2/(u^2 + 2*u*v + v^2) == 1"
      ]
     },
     "metadata": {},
     "output_type": "display_data"
    }
   ],
   "source": [
    "show(expand(x^2/a^2 + y^2/b^2 - z^2/c^2 ==1))"
   ]
  },
  {
   "cell_type": "markdown",
   "id": "fc4ac8dc",
   "metadata": {
    "variables": {
     "\\left(u + v\\right)}^{2": {},
     "\\left(u - v\\right)}^{2": {},
     "\\left(u v + 1\\right)}^{2": {},
     "\\left(u v - 1\\right)}^{2": {}
    }
   },
   "source": [
    "\n",
    "\\[x^2/a^2 + y^2/b^2 - z^2/c^2 == 1  \\]\n",
    "įstatome duotą vektorių x = ..., y = ..., z =  ...\n",
    "\n",
    "\\[\\frac{{\\left(u v + 1\\right)}^{2}}{{\\left(u + v\\right)}^{2}} - \\frac{{\\left(u v - 1\\right)}^{2}}{{\\left(u + v\\right)}^{2}} + \\frac{{\\left(u - v\\right)}^{2}}{{\\left(u + v\\right)}^{2}} = 1\\]\n",
    "\n",
    "išskleidžiam ir abiejuose pusėse gauname tą patį vadinasi lygybė galioja.\n",
    "\n",
    "\\[u^2 + 2*u*v + v^2 = u^2 + 2*u*v+v^2  \\]"
   ]
  },
  {
   "attachments": {
    "image.png": {
     "image/png": "[encoded data removed]"
    }
   },
   "cell_type": "markdown",
   "id": "41b97a4e",
   "metadata": {},
   "source": [
    "![image.png](attachment:image.png)\n"
   ]
  },
  {
   "cell_type": "code",
   "execution_count": 51,
   "id": "5566d0fa",
   "metadata": {
    "ExecuteTime": {
     "end_time": "2023-12-11T12:37:49.214151Z",
     "start_time": "2023-12-11T12:37:49.200638Z"
    },
    "code_folding": []
   },
   "outputs": [
    {
     "name": "stdout",
     "output_type": "stream",
     "text": [
      "\\[E =  {\\left(v y_{2} + y_{1}\\right)}^{2}  \\]\n",
      "\\[F =  {\\left(v y_{2} + y_{1}\\right)} y_{1}  \\]\n",
      "\\[G =  y_{1}^{2}  \\]\n"
     ]
    },
    {
     "name": "stderr",
     "output_type": "stream",
     "text": [
      "<>:11: DeprecationWarning: invalid escape sequence '\\['\n",
      "<>:11: DeprecationWarning: invalid escape sequence '\\]'\n",
      "<>:12: DeprecationWarning: invalid escape sequence '\\['\n",
      "<>:12: DeprecationWarning: invalid escape sequence '\\]'\n",
      "<>:13: DeprecationWarning: invalid escape sequence '\\['\n",
      "<>:13: DeprecationWarning: invalid escape sequence '\\]'\n",
      "<>:11: DeprecationWarning: invalid escape sequence '\\['\n",
      "<>:11: DeprecationWarning: invalid escape sequence '\\]'\n",
      "<>:12: DeprecationWarning: invalid escape sequence '\\['\n",
      "<>:12: DeprecationWarning: invalid escape sequence '\\]'\n",
      "<>:13: DeprecationWarning: invalid escape sequence '\\['\n",
      "<>:13: DeprecationWarning: invalid escape sequence '\\]'\n",
      "/tmp/ipykernel_26230/1154710803.py:11: DeprecationWarning: invalid escape sequence '\\['\n",
      "  print(\"\\[E = \", latex(E), ' \\]')\n",
      "/tmp/ipykernel_26230/1154710803.py:11: DeprecationWarning: invalid escape sequence '\\]'\n",
      "  print(\"\\[E = \", latex(E), ' \\]')\n",
      "/tmp/ipykernel_26230/1154710803.py:12: DeprecationWarning: invalid escape sequence '\\['\n",
      "  print(\"\\[F = \", latex(F), ' \\]')\n",
      "/tmp/ipykernel_26230/1154710803.py:12: DeprecationWarning: invalid escape sequence '\\]'\n",
      "  print(\"\\[F = \", latex(F), ' \\]')\n",
      "/tmp/ipykernel_26230/1154710803.py:13: DeprecationWarning: invalid escape sequence '\\['\n",
      "  print(\"\\[G = \", latex(G), ' \\]')\n",
      "/tmp/ipykernel_26230/1154710803.py:13: DeprecationWarning: invalid escape sequence '\\]'\n",
      "  print(\"\\[G = \", latex(G), ' \\]')\n"
     ]
    }
   ],
   "source": [
    "y1, y2 = var('y_1 y_2')\n",
    "\n",
    "r_u = y1 + v * y2\n",
    "r_v = y1\n",
    "\n",
    "E = r_u*r_u\n",
    "F = r_u*r_v\n",
    "G = r_v*r_v\n",
    "\n",
    "\n",
    "print(\"\\[E = \", latex(E), ' \\]')\n",
    "print(\"\\[F = \", latex(F), ' \\]')\n",
    "print(\"\\[G = \", latex(G), ' \\]')"
   ]
  },
  {
   "cell_type": "markdown",
   "id": "ea5040b5",
   "metadata": {},
   "source": [
    "$$\\[E =  {\\left(v y_{2} + y_{1}\\right)}^{2}  \\]$$\n",
    "$$\\[F =  {\\left(v y_{2} + y_{1}\\right)} y_{1}  \\]$$\n",
    "$$\\[G =  y_{1}^{2}  \\]$$\n"
   ]
  },
  {
   "cell_type": "code",
   "execution_count": null,
   "id": "b3244b2e",
   "metadata": {},
   "outputs": [],
   "source": [
    "integrate(sqrt())"
   ]
  }
 ],
 "metadata": {
  "hide_input": false,
  "kernelspec": {
   "display_name": "SageMath 9.5",
   "language": "sage",
   "name": "sagemath"
  },
  "language_info": {
   "codemirror_mode": {
    "name": "ipython",
    "version": 3
   },
   "file_extension": ".py",
   "mimetype": "text/x-python",
   "name": "python",
   "nbconvert_exporter": "python",
   "pygments_lexer": "ipython3",
   "version": "3.11.2"
  }
 },
 "nbformat": 4,
 "nbformat_minor": 5
}
